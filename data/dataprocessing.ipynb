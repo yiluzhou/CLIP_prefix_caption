{
 "cells": [
  {
   "cell_type": "code",
   "execution_count": 3,
   "metadata": {},
   "outputs": [],
   "source": [
    "import json\n",
    "import os\n",
    "\n",
    "# Load the data from the original file\n",
    "with open('test_dataset.json', 'r') as f:\n",
    "    data = [json.loads(line) for line in f]\n",
    "\n",
    "# Modify each dictionary\n",
    "for item in data:\n",
    "    item['caption'] = item.pop('captions')[0]  # Change 'captions' to 'caption'\n",
    "    image_filename = os.path.basename(item['image_path'])  # Get the filename from the path\n",
    "    item['image_id'] = os.path.splitext(image_filename)[0]  # Remove the file extension to get the ID\n",
    "\n",
    "# Write the modified data to a new JSON file\n",
    "with open('test_dataset_new.json', 'w') as f:\n",
    "    json.dump(data, f)\n"
   ]
  },
  {
   "cell_type": "code",
   "execution_count": null,
   "metadata": {},
   "outputs": [],
   "source": [
    "from enum import Enum\n",
    "class MappingType(Enum):\n",
    "    MLP = 'mlp'\n",
    "    Transformer = 'transformer'\n",
    "\n",
    "mapping_type = {'mlp': MappingType.MLP, 'transformer': MappingType.Transformer}\n",
    "print(mapping_type)"
   ]
  }
 ],
 "metadata": {
  "kernelspec": {
   "display_name": "yz_openclip",
   "language": "python",
   "name": "python3"
  },
  "language_info": {
   "codemirror_mode": {
    "name": "ipython",
    "version": 3
   },
   "file_extension": ".py",
   "mimetype": "text/x-python",
   "name": "python",
   "nbconvert_exporter": "python",
   "pygments_lexer": "ipython3",
   "version": "3.10.12"
  },
  "orig_nbformat": 4
 },
 "nbformat": 4,
 "nbformat_minor": 2
}
